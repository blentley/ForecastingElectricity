{
 "cells": [
  {
   "cell_type": "markdown",
   "metadata": {},
   "source": [
    "#### Preparing a PostgreSQL database"
   ]
  },
  {
   "cell_type": "markdown",
   "metadata": {},
   "source": [
    "The purpose of this script is to prepare a database which will be used for storing climate and demand data. PostgreSQL was chosen because it is open source and for its spatial capabilities (if required)."
   ]
  },
  {
   "cell_type": "code",
   "execution_count": 1,
   "metadata": {
    "collapsed": true
   },
   "outputs": [],
   "source": [
    "# Prepare the environment\n",
    "import os\n",
    "import psycopg2 as pg\n",
    "import sqlalchemy as sa"
   ]
  },
  {
   "cell_type": "markdown",
   "metadata": {},
   "source": [
    "The following chunk establishes a connection between python and your PostgreSQL database. Please update your user name, user password, server location and database name. "
   ]
  },
  {
   "cell_type": "code",
   "execution_count": 12,
   "metadata": {
    "collapsed": true
   },
   "outputs": [],
   "source": [
    "# Define input parameters\n",
    "user_name = r\"postgres\"\n",
    "user_pass = r\"password\"\n",
    "db_name = r\"endgame\"\n",
    "server = r\"localhost\""
   ]
  },
  {
   "cell_type": "code",
   "execution_count": 13,
   "metadata": {
    "collapsed": true
   },
   "outputs": [],
   "source": [
    "# Establishing a connection to postgres\n",
    "strEngine = r'postgresql://' + user_name+ \"@\" + server + \"/\" + db_name\n",
    "engine = sa.create_engine(strEngine)\n",
    "connstring = \"host='%s' dbname='%s' user='%s' password='%s'\" % (server, db_name, user_name, user_pass)\n",
    "conn = pg.connect(connstring)"
   ]
  },
  {
   "cell_type": "code",
   "execution_count": 1,
   "metadata": {
    "collapsed": true
   },
   "outputs": [],
   "source": [
    "# Define some required schemas\n",
    "# The AEMO schema will be used for the demand data\n",
    "schemaAEMO = \"aemo\"\n",
    "# The BOM schema will be used for the BOM climate data\n",
    "schemaBOM = \"bom\"\n",
    "\n",
    "# Create a function that returns create schema strings\n",
    "def createSchema(schemaName):\n",
    "    sqlText = \"create schema \" + schemaName + \";\"\n",
    "    return sqlText;"
   ]
  },
  {
   "cell_type": "code",
   "execution_count": 2,
   "metadata": {},
   "outputs": [
    {
     "data": {
      "text/plain": [
       "'create schema aemo;'"
      ]
     },
     "execution_count": 2,
     "metadata": {},
     "output_type": "execute_result"
    }
   ],
   "source": [
    "# Create the schemas\n",
    "engine.execute(createSchema(schemaAEMO))\n",
    "engine.execute(createSchema(schemaBOM))"
   ]
  },
  {
   "cell_type": "code",
   "execution_count": 2,
   "metadata": {},
   "outputs": [
    {
     "data": {
      "text/plain": [
       "0"
      ]
     },
     "execution_count": 2,
     "metadata": {},
     "output_type": "execute_result"
    }
   ],
   "source": [
    "os.system('jupyter nbconvert --to html CreateDB.ipynb')"
   ]
  }
 ],
 "metadata": {
  "kernelspec": {
   "display_name": "Python 3",
   "language": "python",
   "name": "python3"
  },
  "language_info": {
   "codemirror_mode": {
    "name": "ipython",
    "version": 3
   },
   "file_extension": ".py",
   "mimetype": "text/x-python",
   "name": "python",
   "nbconvert_exporter": "python",
   "pygments_lexer": "ipython3",
   "version": "3.6.2"
  }
 },
 "nbformat": 4,
 "nbformat_minor": 2
}
