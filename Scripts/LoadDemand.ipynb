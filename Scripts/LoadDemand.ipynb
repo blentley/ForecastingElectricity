{
 "cells": [
  {
   "cell_type": "markdown",
   "metadata": {},
   "source": [
    "#### Loading historical demand data into PostgreSQL\n",
    "The purpose of this script is to load the csv of historical demand data into the PostgreSQL database"
   ]
  },
  {
   "cell_type": "code",
   "execution_count": 3,
   "metadata": {
    "collapsed": true
   },
   "outputs": [],
   "source": [
    "# Begin by importing modules\n",
    "import os\n",
    "import numpy as np\n",
    "import pandas as pd\n",
    "import psycopg2 as pg\n",
    "import sqlalchemy as sa\n",
    "\n",
    "# Set working directry\n",
    "os.chdir(\"c:/Users/Blake/Documents/UTS/36102_iLab_1/Client/Demand/\")\n",
    "\n",
    "# Define input parameters\n",
    "user_name = r\"postgres\"\n",
    "user_pass = r\"password\"\n",
    "db_name = r\"endgame\"\n",
    "server = r\"localhost\"\n",
    "\n",
    "# Assemble the connetion string\n",
    "strEngine = r'postgresql://' + user_name+ \"@\" + server + \"/\" + db_name\n",
    "\n",
    "# Define schema of demand data\n",
    "loadSchema = \"aemo\"\n",
    "# Define table of demand data\n",
    "tblDemand = \"demand\""
   ]
  },
  {
   "cell_type": "code",
   "execution_count": null,
   "metadata": {
    "collapsed": true
   },
   "outputs": [],
   "source": [
    "# Import the demand data into python, clean it and load it\n",
    "rawData = pd.read_csv(\"total_demand_-_all_regions_-_2010-01_-_2017-01-20170813_035600.csv\", index_col=0, parse_dates= True)\n",
    "# Strip white space from the region ID field\n",
    "rawData['regionid'] = rawData['regionid'].str.strip()\n",
    "\n",
    "# Sample data frame\n",
    "rawData.head()\n",
    "rawData.info()\n",
    "\n",
    "# Create a connection to postgres \n",
    "engine = sa.create_engine(strEngine)\n",
    "\n",
    "# Write the table\n",
    "rawData.to_sql(tblDemand, engine, schema = loadSchema, if_exists = 'replace')"
   ]
  },
  {
   "cell_type": "code",
   "execution_count": 2,
   "metadata": {},
   "outputs": [
    {
     "data": {
      "text/plain": [
       "0"
      ]
     },
     "execution_count": 2,
     "metadata": {},
     "output_type": "execute_result"
    }
   ],
   "source": [
    "os.system('jupyter nbconvert --to html LoadDemand.ipynb')"
   ]
  }
 ],
 "metadata": {
  "kernelspec": {
   "display_name": "Python 3",
   "language": "python",
   "name": "python3"
  },
  "language_info": {
   "codemirror_mode": {
    "name": "ipython",
    "version": 3
   },
   "file_extension": ".py",
   "mimetype": "text/x-python",
   "name": "python",
   "nbconvert_exporter": "python",
   "pygments_lexer": "ipython3",
   "version": "3.6.2"
  }
 },
 "nbformat": 4,
 "nbformat_minor": 2
}
